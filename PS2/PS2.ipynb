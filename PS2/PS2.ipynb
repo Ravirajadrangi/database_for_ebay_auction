{
 "cells": [
  {
   "cell_type": "code",
   "execution_count": 21,
   "metadata": {
    "collapsed": false
   },
   "outputs": [
    {
     "name": "stdout",
     "output_type": "stream",
     "text": [
      "The sql extension is already loaded. To reload it, use:\n",
      "  %reload_ext sql\n"
     ]
    },
    {
     "data": {
      "text/plain": [
       "u'Connected: None@'"
      ]
     },
     "execution_count": 21,
     "metadata": {},
     "output_type": "execute_result"
    }
   ],
   "source": [
    "%load_ext sql\n",
    "%sql sqlite:///"
   ]
  },
  {
   "cell_type": "markdown",
   "metadata": {},
   "source": [
    "Problem Set 2\n",
    "=======\n",
    "\n",
    "\n",
    "### Instructions / Notes:\n",
    "\n",
    "**_Read these carefully_**\n",
    "\n",
    "* This problem set _does not_ come with a dataset to load; instead, make your own instances of tables, either as solutions to the problems or for testing solutions to the problems.\n",
    "* You **may** create new IPython notebook cells to use for e.g. testing, debugging, exploring, etc.- this is encouraged in fact!- **just make sure that your final answer for each question is _in its own cell_ and _clearly indicated_**\n",
    "* When you see `In [*]:` to the left of the cell you are executing, this means that the code / query is _running_.\n",
    "    * **If the cell is hanging- i.e. running for too long: To restart the SQL connection, you must restart the entire python kernel**\n",
    "    * To restart kernel using the menu bar: \"Kernel >> Restart >> Clear all outputs & restart\"), then re-execute the sql connection cell at top\n",
    "    * You will also need to restart the connection if you want to load a different version of the database file\n",
    "* Remember:\n",
    "    * `%sql [SQL]` is for _single line_ SQL queries\n",
    "    * `%%sql [SQL]` is for _multi line_ SQL queries\n",
    "* **See Piazza for submission instructions**\n",
    "* _Have fun!_"
   ]
  },
  {
   "cell_type": "markdown",
   "metadata": {},
   "source": [
    "Problem 1\n",
    "---------\n",
    "\n",
    "**_[20 points total]_**\n",
    "\n",
    "For each part of this problem you will need to provide a _single_ SQL query which will check whether a certain condition holds on a specific instance of a relation, in the following way: **your query should return an empty result if and only if the condition holds on the instance.**  (If the condition _doesn't hold_, your query should return something non-empty, but it doesn't matter what this is).\n",
    "\n",
    "Note our language here: the conditions that we specify cannot be proved to hold **in general** without knowing the externally-defined functional dependencies; so what we mean is, _check whether they **could** hold in general for the relation, given any specific set of tuples_.\n",
    "\n",
    "You may assume that there will be no `NULL` values in the tables, **and you may assume that the relations are _sets_ rather than multisets**, but otherwise your query should work for general instances.  We define the schemas of the tables used below for convenience, but in this problem you will need to construct your own test tables if you wish to use them to check your answers!"
   ]
  },
  {
   "cell_type": "code",
   "execution_count": 114,
   "metadata": {
    "collapsed": false
   },
   "outputs": [
    {
     "name": "stdout",
     "output_type": "stream",
     "text": [
      "Done.\n",
      "Done.\n",
      "Done.\n",
      "Done.\n",
      "Done.\n",
      "Done.\n",
      "Done.\n",
      "Done.\n",
      "1 rows affected.\n",
      "1 rows affected.\n",
      "1 rows affected.\n",
      "1 rows affected.\n"
     ]
    },
    {
     "data": {
      "text/plain": [
       "[]"
      ]
     },
     "execution_count": 114,
     "metadata": {},
     "output_type": "execute_result"
    }
   ],
   "source": [
    "%%sql\n",
    "DROP TABLE IF EXISTS T; CREATE TABLE T (A INT, B INT, C INT, D INT);\n",
    "DROP TABLE IF EXISTS Dog; CREATE TABLE Dog(dog_name TEXT, breed TEXT, owner_name TEXT);\n",
    "DROP TABLE IF EXISTS Owner; CREATE TABLE Owner(owner_name TEXT, ssn INT, hometown TEXT);\n",
    "DROP TABLE IF EXISTS S; CREATE TABLE S (A INT, B INT, C INT);"
   ]
  },
  {
   "cell_type": "markdown",
   "metadata": {},
   "source": [
    "### Part (a)\n",
    "\n",
    "**_[5 points]_**\n",
    "\n",
    "$\\{A, B\\}$ is a **superkey** for a relation $T(A,B,C,D)$."
   ]
  },
  {
   "cell_type": "code",
   "execution_count": 96,
   "metadata": {
    "collapsed": false
   },
   "outputs": [
    {
     "name": "stdout",
     "output_type": "stream",
     "text": [
      "Done.\n"
     ]
    },
    {
     "data": {
      "text/plain": [
       "[]"
      ]
     },
     "execution_count": 96,
     "metadata": {},
     "output_type": "execute_result"
    }
   ],
   "source": [
    "%%sql\n",
    "--(A,B) should be unique \n",
    "SELECT A, B\n",
    "FROM T as t\n",
    "WHERE \n",
    "    (1 <= (SELECT COUNT(*) FROM T as t2 WHERE t2.A = t.A AND t2.B = t.B AND (t2.C != t.C or t2.D != t.D)))"
   ]
  },
  {
   "cell_type": "markdown",
   "metadata": {},
   "source": [
    "### Part (b)\n",
    "\n",
    "**_[5 points]_**\n",
    "\n",
    "The individual attributes of a relation $T(A,B,C,D)$ are each keys."
   ]
  },
  {
   "cell_type": "code",
   "execution_count": 115,
   "metadata": {
    "collapsed": false
   },
   "outputs": [
    {
     "name": "stdout",
     "output_type": "stream",
     "text": [
      "Done.\n"
     ]
    },
    {
     "data": {
      "text/plain": [
       "[]"
      ]
     },
     "execution_count": 115,
     "metadata": {},
     "output_type": "execute_result"
    }
   ],
   "source": [
    "%%sql\n",
    "--A, B, C, D should all be unique \n",
    "SELECT A, B, C, D\n",
    "FROM T as t\n",
    "WHERE\n",
    "    (1 <= (SELECT COUNT(*) FROM T as t2 WHERE t2.A = t.A AND (t2.B != t.B or t2.C != t.C or t2.D != t.D)))\n",
    "    OR\n",
    "    (1 <= (SELECT COUNT(*) FROM T as t2 WHERE t2.B = t.B AND (t2.A != t.A or t2.C != t.C or t2.D != t.D)))\n",
    "    OR\n",
    "    (1 <= (SELECT COUNT(*) FROM T as t2 WHERE t2.C = t.C AND (t2.A != t.A or t2.B != t.B or t2.D != t.D)))\n",
    "    OR\n",
    "    (1 <= (SELECT COUNT(*) FROM T as t2 WHERE t2.D = t.D AND (t2.A != t.A or t2.B != t.B or t2.C != t.C)))"
   ]
  },
  {
   "cell_type": "markdown",
   "metadata": {},
   "source": [
    "### Part (c)\n",
    "\n",
    "**_[5 points]_**\n",
    "\n",
    "A **multivalued dependency (MVD)** is defined as follows: let $R$ be a schema i.e. a set of attributes, and consider two _sets of attributes_ $X\\subseteq R$ and $Y\\subseteq R$.  We say that a multivalued dependency (MVD), written:\n",
    "\n",
    "$X\\twoheadrightarrow Y$\n",
    "\n",
    "**holds on $R$** if whenever there are two tuples $t_1,t_2$ such that $t_1[A] = t_2[A]$, there also exists a third tuple $t_3$ such that:\n",
    "\n",
    "* $t_3[A] = t_1[A] = t_2[A]$\n",
    "* $t_3[B] = t_1[B]$\n",
    "* $t_3[R\\setminus B] = t_2[R\\setminus B]$\n",
    "\n",
    "Note that $R\\setminus B$ is all the attributes in $R$ that are not in $B$, and that $t_3$ need not be distinct from $t_1$ or $t_2$.  Note especially that an MVD holds on an entire _relation_, meaning that any two tuples (in any order) in the relation should satisfy the above conditions if the MVD holds.  **See the end of the lecture 7 slides for more on MVDs!**\n",
    "\n",
    "\n",
    "In this problem, write your query to check if the MVD $\\{A\\}\\twoheadrightarrow \\{B,D\\}$ holds for a relation $T(A,B,C,D)$"
   ]
  },
  {
   "cell_type": "code",
   "execution_count": 47,
   "metadata": {
    "collapsed": false
   },
   "outputs": [
    {
     "name": "stdout",
     "output_type": "stream",
     "text": [
      "Done.\n"
     ]
    },
    {
     "data": {
      "text/html": [
       "<table>\n",
       "    <tr>\n",
       "        <th>A</th>\n",
       "        <th>B</th>\n",
       "        <th>C</th>\n",
       "        <th>D</th>\n",
       "        <th>A_1</th>\n",
       "        <th>B_1</th>\n",
       "        <th>C_1</th>\n",
       "        <th>D_1</th>\n",
       "    </tr>\n",
       "</table>"
      ],
      "text/plain": [
       "[]"
      ]
     },
     "execution_count": 47,
     "metadata": {},
     "output_type": "execute_result"
    }
   ],
   "source": [
    "%%sql\n",
    "SELECT *\n",
    "FROM T AS t1, T AS t2\n",
    "WHERE t1.A = t2.A AND NOT EXISTS (\n",
    "    SELECT *\n",
    "    FROM T AS t3\n",
    "    WHERE t3.A = t1.A\n",
    "        AND (t3.B = t1.B AND t3.D = t1.D)\n",
    "        AND t3.C = t2.C);"
   ]
  },
  {
   "cell_type": "markdown",
   "metadata": {},
   "source": [
    "### Part (d)\n",
    "\n",
    "**_[5 points]_**\n",
    "\n",
    "A _tuple-generating dependency (TGD)_ between two relations $A$ and $B$, having some shared attributes $X_1,...,X_n$, holds if, for every tuple $t_A$ in $A$, there is _some_ tuple $t_B$ in $B$ such that $t_A[X_i] = t_B[X_i]$ for $i=1,...n$.\n",
    "\n",
    "In other words, for every distinct tuple in $A$, there must exist a corresponding tuple in $B$, which has the same values of shared attributes.\n",
    "\n",
    "Consider two tables `Dog(dog_name, breed, owner_name)` and `Owner(owner_name, ssn, hometown)`; check for a TGD between them:"
   ]
  },
  {
   "cell_type": "code",
   "execution_count": 89,
   "metadata": {
    "collapsed": false
   },
   "outputs": [
    {
     "name": "stdout",
     "output_type": "stream",
     "text": [
      "Done.\n"
     ]
    },
    {
     "data": {
      "text/html": [
       "<table>\n",
       "    <tr>\n",
       "        <th>owner_name</th>\n",
       "    </tr>\n",
       "</table>"
      ],
      "text/plain": [
       "[]"
      ]
     },
     "execution_count": 89,
     "metadata": {},
     "output_type": "execute_result"
    }
   ],
   "source": [
    "%%sql \n",
    "SELECT owner_name\n",
    "FROM Dog as d1\n",
    "WHERE NOT EXISTS(\n",
    "    SELECT *\n",
    "    FROM Owner as o1\n",
    "    WHERE d1.owner_name = o1.owner_name)\n",
    "UNION ALL\n",
    "SELECT owner_name\n",
    "FROM Owner as o1\n",
    "WHERE NOT EXISTS(\n",
    "    SELECT *\n",
    "    FROM Dog as d1\n",
    "    WHERE d1.owner_name = o1.owner_name);"
   ]
  },
  {
   "cell_type": "markdown",
   "metadata": {},
   "source": [
    "Problem 2\n",
    "---------\n",
    "\n",
    "**_[20 points total]_**\n",
    "\n",
    "### Part (a)\n",
    "\n",
    "**_[10 points]_**\n",
    "\n",
    "Consider a relation $R(A,B,C,D,E)$.  Provide _two different sets_ of functional dependencies, `F_1` and `F_2`, such that each one results in $R$ having the **largest number of distinct keys** $R$ could possibly have.\n",
    "\n",
    "Store your lists of FDs as python lists having elements that are _pairs of sets_; for example to set `F_1` as the set consisting of two FDs, $\\{A,B\\}\\rightarrow\\{C,D\\}$ and $\\{B\\}\\rightarrow\\{C\\}$:\n",
    "\n",
    "```python\n",
    "F_1 = [(set(['A','B']), set(['C','D'])), (set(['B']), set(['C']))]\n",
    "```\n",
    "\n",
    "*Note: the above is not necessarily one of the FDs- just an example of the syntax!\n",
    "\n",
    "*Hint: You may use any of the functions from the lecture activities if they seem helpful!  However your final answer should not involve these functions directly, nor are they necessary for this problem\n",
    "\n",
    "*Hint: See Activity 5-3..."
   ]
  },
  {
   "cell_type": "code",
   "execution_count": 11,
   "metadata": {
    "collapsed": true
   },
   "outputs": [],
   "source": [
    "def to_set(x):\n",
    "    if type(x) == set:\n",
    "        return x\n",
    "    elif type(x) in [list, set]:\n",
    "        return set(x)\n",
    "    elif type(x) in [str, int]:\n",
    "        return set([x])\n",
    "    else:\n",
    "        raise Exception(\"Unrecognized type.\")\n",
    "def fd_to_str((lhs,rhs)): return \",\".join(to_set(lhs)) + \" -> \" + \",\".join(to_set(rhs))\n",
    "def fds_to_str(fds): return \"\\n\\t\".join(map(fd_to_str, fds))\n",
    "def set_to_str(x): return \"{\" + \",\".join(x) + \"}\"\n",
    "def fd_applies_to(fd, x): \n",
    "    lhs, rhs = map(to_set, fd)\n",
    "    return lhs.issubset(x)\n",
    "def compute_closure(x, fds, verbose=False):\n",
    "    bChanged = True        # We will repeat until there are no changes.\n",
    "    x_ret    = to_set(x).copy()    # Make a copy of the input to hold x^{+}\n",
    "    while bChanged:\n",
    "        bChanged = False   # Must change on each iteration\n",
    "        for fd in fds:     # loop through all the FDs.\n",
    "            (lhs, rhs) = map(to_set, fd) # recall: lhs -> rhs\n",
    "            if fd_applies_to(fd, x_ret) and not rhs.issubset(x_ret):\n",
    "                x_ret = x_ret.union(rhs)\n",
    "                if verbose:\n",
    "                    print(\"Using FD \" + fd_to_str(fd))\n",
    "                    print(\"\\t Updated x to \" + set_to_str(x_ret))\n",
    "                bChanged = True\n",
    "    return x_ret"
   ]
  },
  {
   "cell_type": "code",
   "execution_count": 12,
   "metadata": {
    "collapsed": true
   },
   "outputs": [],
   "source": [
    "def is_superkey_for(A, X, fds, verbose=False): \n",
    "    return X.issubset(compute_closure(A, fds, verbose=verbose))"
   ]
  },
  {
   "cell_type": "code",
   "execution_count": 13,
   "metadata": {
    "collapsed": true
   },
   "outputs": [],
   "source": [
    "import itertools\n",
    "def is_key_for(A, X, fds, verbose=False):\n",
    "    subsets = set(itertools.combinations(A, len(A)-1))\n",
    "    return is_superkey_for(A, X, fds) and \\\n",
    "        all([not is_superkey_for(set(SA), X, fds) for SA in subsets])"
   ]
  },
  {
   "cell_type": "code",
   "execution_count": 16,
   "metadata": {
    "collapsed": false
   },
   "outputs": [
    {
     "name": "stdout",
     "output_type": "stream",
     "text": [
      "True\n",
      "True\n",
      "True\n",
      "True\n",
      "True\n",
      "True\n",
      "True\n",
      "True\n",
      "True\n",
      "True\n",
      "True\n",
      "True\n",
      "True\n",
      "True\n",
      "True\n",
      "True\n",
      "True\n",
      "True\n",
      "True\n",
      "True\n"
     ]
    }
   ],
   "source": [
    "R = set(['A','B','C','D','E'])\n",
    "\n",
    "F_1 = [(set(['A','B']), set(['C','D','E'])),\n",
    "     (set(['A','C']), set(['B','D','E'])),\n",
    "     (set(['A','D']), set(['C','B','E'])),\n",
    "     (set(['A','E']), set(['C','D','B'])),\n",
    "     (set(['B','C']), set(['A','D','E'])),\n",
    "     (set(['B','D']), set(['A','C','E'])),\n",
    "     (set(['B','E']), set(['A','D','C'])),\n",
    "     (set(['C','D']), set(['A','B','E'])),\n",
    "     (set(['C','E']), set(['A','B','D'])),\n",
    "     (set(['D','E']), set(['A','B','C']))]\n",
    "     \n",
    "print is_key_for(set(['A','B']), R, F_1)\n",
    "print is_key_for(set(['A','C']), R, F_1)\n",
    "print is_key_for(set(['A','D']), R, F_1)\n",
    "print is_key_for(set(['A','E']), R, F_1)\n",
    "print is_key_for(set(['B','C']), R, F_1)\n",
    "print is_key_for(set(['B','D']), R, F_1)\n",
    "print is_key_for(set(['B','E']), R, F_1)\n",
    "print is_key_for(set(['C','D']), R, F_1)\n",
    "print is_key_for(set(['C','E']), R, F_1)\n",
    "print is_key_for(set(['D','E']), R, F_1)\n",
    "\n",
    "F_2 = [(set(['A','B','C']), set(['D','E'])),\n",
    "     (set(['A','B','D']), set(['C','E'])),\n",
    "     (set(['A','B','E']), set(['C','B'])),\n",
    "     (set(['A','C','D']), set(['B','E'])),\n",
    "     (set(['A','C','E']), set(['B','D'])),\n",
    "     (set(['A','D','E']), set(['B','C'])),\n",
    "     (set(['B','C','D']), set(['A','E'])),\n",
    "     (set(['B','C','E']), set(['A','D'])),\n",
    "     (set(['B','D','E']), set(['A','C'])),\n",
    "     (set(['C','D','E']), set(['A','B']))]\n",
    "    \n",
    "print is_key_for(set(['A','B','C']), R, F_2)\n",
    "print is_key_for(set(['A','B','D']), R, F_2)\n",
    "print is_key_for(set(['A','B','E']), R, F_2)\n",
    "print is_key_for(set(['A','C','D']), R, F_2)\n",
    "print is_key_for(set(['A','C','E']), R, F_2)\n",
    "print is_key_for(set(['A','D','E']), R, F_2)\n",
    "print is_key_for(set(['B','C','D']), R, F_2)\n",
    "print is_key_for(set(['B','C','E']), R, F_2)\n",
    "print is_key_for(set(['B','D','E']), R, F_2)\n",
    "print is_key_for(set(['C','D','E']), R, F_2)\n",
    "    "
   ]
  },
  {
   "cell_type": "markdown",
   "metadata": {},
   "source": [
    "### Part (b)\n",
    "\n",
    "**_[10 points]_**\n",
    "\n",
    "Consider a schema $R(A_1,...,A_n)$ which has FDs $\\{A_i,A_{i+1}\\}\\rightarrow\\{A_{i+2}\\}$ for $i=1,...,n-2$.  Create an instance of $R$, for $n=4$, for which these FDs hold, and no other ones do- i.e. **all other FDs are violated.**\n",
    "\n",
    "Use a series of `INSERT` statements below to populate the table `R`:"
   ]
  },
  {
   "cell_type": "code",
   "execution_count": 117,
   "metadata": {
    "collapsed": false
   },
   "outputs": [
    {
     "name": "stdout",
     "output_type": "stream",
     "text": [
      "Done.\n",
      "Done.\n",
      "1 rows affected.\n",
      "1 rows affected.\n",
      "1 rows affected.\n",
      "1 rows affected.\n",
      "1 rows affected.\n"
     ]
    },
    {
     "data": {
      "text/plain": [
       "[]"
      ]
     },
     "execution_count": 117,
     "metadata": {},
     "output_type": "execute_result"
    }
   ],
   "source": [
    "%%sql\n",
    "DROP TABLE IF EXISTS R; \n",
    "CREATE TABLE R (A int, B int, C int, D int);\n",
    "INSERT INTO R VALUES(0,0,0,0);\n",
    "INSERT INTO R VALUES(0,1,0,1);\n",
    "INSERT INTO R VALUES(1,0,1,0);\n",
    "INSERT INTO R VALUES(1,1,1,1);\n",
    "INSERT INTO R VALUES(2,2,0,0);"
   ]
  },
  {
   "cell_type": "markdown",
   "metadata": {},
   "source": [
    "Problem 3\n",
    "---------\n",
    "\n",
    "**_[20 points total]_**"
   ]
  },
  {
   "cell_type": "markdown",
   "metadata": {},
   "source": [
    "Consider a relation $R(X,Y,Z)$.  In each part of this problem you will be given a condition, and you need to create the following three instances of $R$ (as tables in SQL):\n",
    "\n",
    "1. An instance $A$\n",
    "2. An instance $B$ which differs from $A$ only in that it has one **_fewer_** row.\n",
    "3. An instance $C$ which differs from $A$ only in that it has one **_additional_** row."
   ]
  },
  {
   "cell_type": "markdown",
   "metadata": {},
   "source": [
    "### Part (a)\n",
    "\n",
    "**_[10 points]_**\n",
    "\n",
    "Create $A$, $B$ and $C$ such that each individual attribute is a key for $A$, but none of the individual attributes is a key for $B$ or $C$.  If you believe that $B$ and/or $C$ cannot be created, provide them as an empty table."
   ]
  },
  {
   "cell_type": "code",
   "execution_count": 19,
   "metadata": {
    "collapsed": false
   },
   "outputs": [
    {
     "name": "stdout",
     "output_type": "stream",
     "text": [
      "Done.\n",
      "Done.\n",
      "Done.\n",
      "Done.\n",
      "Done.\n",
      "Done.\n"
     ]
    },
    {
     "data": {
      "text/plain": [
       "[]"
      ]
     },
     "execution_count": 19,
     "metadata": {},
     "output_type": "execute_result"
    }
   ],
   "source": [
    "%%sql\n",
    "DROP TABLE IF EXISTS A; \n",
    "DROP TABLE IF EXISTS B; \n",
    "DROP TABLE IF EXISTS C; \n",
    "CREATE TABLE A (X int, Y int, Z int);\n",
    "CREATE TABLE B (X int, Y int, Z int);\n",
    "CREATE TABLE C (X int, Y int, Z int);"
   ]
  },
  {
   "cell_type": "markdown",
   "metadata": {},
   "source": [
    "### Part (b)\n",
    "\n",
    "**_[10 points]_**\n",
    "\n",
    "Create $A$, $B$ and $C$ such that the MVD $Z\\twoheadrightarrow X$ holds in $A$, but not in $B$ or $C$.  If you believe that $B$ and/or $C$ cannot be created, provide them as an empty table.\n",
    "\n"
   ]
  },
  {
   "cell_type": "code",
   "execution_count": 20,
   "metadata": {
    "collapsed": false
   },
   "outputs": [
    {
     "name": "stdout",
     "output_type": "stream",
     "text": [
      "Done.\n",
      "Done.\n",
      "Done.\n",
      "Done.\n",
      "Done.\n",
      "Done.\n",
      "1 rows affected.\n",
      "1 rows affected.\n",
      "1 rows affected.\n",
      "1 rows affected.\n",
      "1 rows affected.\n",
      "1 rows affected.\n",
      "1 rows affected.\n",
      "1 rows affected.\n",
      "1 rows affected.\n",
      "1 rows affected.\n",
      "1 rows affected.\n",
      "1 rows affected.\n"
     ]
    },
    {
     "data": {
      "text/plain": [
       "[]"
      ]
     },
     "execution_count": 20,
     "metadata": {},
     "output_type": "execute_result"
    }
   ],
   "source": [
    "%%sql\n",
    "DROP TABLE IF EXISTS A; \n",
    "DROP TABLE IF EXISTS B; \n",
    "DROP TABLE IF EXISTS C; \n",
    "CREATE TABLE A (X int, Y int, Z int);\n",
    "CREATE TABLE B (X int, Y int, Z int);\n",
    "CREATE TABLE C (X int, Y int, Z int);\n",
    "\n",
    "INSERT INTO A VALUES(1,2,0);\n",
    "INSERT INTO A VALUES(2,1,0);\n",
    "INSERT INTO A VALUES(1,1,0);\n",
    "INSERT INTO A VALUES(2,2,0);\n",
    "\n",
    "INSERT INTO B VALUES(1,2,0);\n",
    "INSERT INTO B VALUES(2,1,0);\n",
    "INSERT INTO B VALUES(1,1,0);\n",
    "\n",
    "INSERT INTO C VALUES(1,2,0);\n",
    "INSERT INTO C VALUES(2,1,0);\n",
    "INSERT INTO C VALUES(1,1,0);\n",
    "INSERT INTO C VALUES(2,2,0);\n",
    "INSERT INTO C VALUES(1,3,0);"
   ]
  },
  {
   "cell_type": "markdown",
   "metadata": {},
   "source": [
    "Bonus Problem:\n",
    "-------------\n",
    "\n",
    "**_[10 points]_**\n",
    "\n",
    "Prove the **transitivity rule for MVDs**\n",
    "\n",
    "If $A\\twoheadrightarrow B$ and $B\\twoheadrightarrow C$ $\\implies$ $A\\twoheadrightarrow C \\setminus B$\n",
    "\n",
    "using only the basic definition of an MVD; and where $A,B,C$ are _sets of_ attributes such that $A\\cup B\\cup C\\subseteq R$, where $R$ is the full set of attributes."
   ]
  },
  {
   "cell_type": "code",
   "execution_count": 116,
   "metadata": {
    "collapsed": false
   },
   "outputs": [
    {
     "ename": "SyntaxError",
     "evalue": "invalid syntax (<ipython-input-116-12cb8e6d5ad4>, line 1)",
     "output_type": "error",
     "traceback": [
      "\u001b[0;36m  File \u001b[0;32m\"<ipython-input-116-12cb8e6d5ad4>\"\u001b[0;36m, line \u001b[0;32m1\u001b[0m\n\u001b[0;31m    From A↠B We know\u001b[0m\n\u001b[0m         ^\u001b[0m\n\u001b[0;31mSyntaxError\u001b[0m\u001b[0;31m:\u001b[0m invalid syntax\n"
     ]
    }
   ],
   "source": [
    "From A↠B We know \n",
    "    t3[A]=t1[A]=t2[A]\n",
    "    t3[B]=t2[B]\n",
    "And From B↠C We know\n",
    "    t3[B]=t1[B]=t2[B]\n",
    "    t3[C]=t2[C]\n",
    "    t3[R\\C]=t2[R\\C]\n",
    "So we can say\n",
    "    t3[A]=t1[A]=t2[A]\n",
    "    t3[B]=t2[B]\n",
    "    t3[C]=t2[C]\n",
    "    t3[R\\C]=t2[R\\C]\n",
    "Which IS\n",
    "    t3[A]=t1[A]=t2[A]\n",
    "    t3[C]=t2[C]\n",
    "    t3[R\\C] ∪ t3[B]=t2[R\\C] ∪ t2[B]    \n",
    "AS C\\B ⊆ C we can say\n",
    "    t3[A]=t1[A]=t2[A]\n",
    "    t3[C\\B]=t2[C\\B]\n",
    "    t3[R\\C] ∪ t3[B]=t2[R\\C] ∪ t2[B]  \n",
    "And AS R ∖ (C ∖ B)  =  (R ∖ C) ∪ (B)\n",
    "We can say\n",
    "    t3[A]=t1[A]=t2[A]\n",
    "    t3[C\\B]=t2[C\\B]\n",
    "    t3[R\\(C\\B)]=t2[R\\(C\\B)] \n",
    "\n",
    "This is the define for A↠C∖B"
   ]
  },
  {
   "cell_type": "markdown",
   "metadata": {},
   "source": []
  }
 ],
 "metadata": {
  "kernelspec": {
   "display_name": "Python 2",
   "language": "python",
   "name": "python2"
  },
  "language_info": {
   "codemirror_mode": {
    "name": "ipython",
    "version": 2
   },
   "file_extension": ".py",
   "mimetype": "text/x-python",
   "name": "python",
   "nbconvert_exporter": "python",
   "pygments_lexer": "ipython2",
   "version": "2.7.10"
  }
 },
 "nbformat": 4,
 "nbformat_minor": 0
}
